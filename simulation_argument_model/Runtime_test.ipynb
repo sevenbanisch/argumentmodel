{
 "cells": [
  {
   "metadata": {
    "ExecuteTime": {
     "end_time": "2024-06-27T13:32:01.185772Z",
     "start_time": "2024-06-27T13:32:00.518970Z"
    }
   },
   "cell_type": "code",
   "source": [
    "import numpy as np\n",
    "from model_code import fastModel"
   ],
   "id": "492daf7635e71226",
   "outputs": [],
   "execution_count": 1
  },
  {
   "metadata": {
    "ExecuteTime": {
     "end_time": "2024-06-25T13:54:25.936548Z",
     "start_time": "2024-06-25T13:53:39.761770Z"
    }
   },
   "cell_type": "code",
   "source": [
    "import numba\n",
    "\n",
    "@numba.jit(nopython=True)\n",
    "def test_runtime(N, M, ß, T, reps):\n",
    "    \n",
    "    C = fastModel.create_connection_array_symmetrical(M, True)\n",
    "    \n",
    "    for i in range(reps):\n",
    "        red = fastModel.reduced_model(M=M, N=N,T=T, ß=ß, C=C)\n",
    "        exp = fastModel.explicit_model(M=M, N=N,T=T, ß=ß, C=C)\n",
    "\n",
    "# this took 00:04:17, in MATLAB: 00:04:28\n",
    "# test_runtime(1000, 4, 2.0, 4000, 600)\n",
    "\n",
    "# this took 00:06:54, in MATLAB: 00:15:15\n",
    "# test_runtime(1000, 64, 7.0, 4000, 600)\n",
    "\n",
    "# this took 00:00:46, in MATLAB: 00:01:03\n",
    "#test_runtime(100, 16, 3.8, 4000, 600)\n",
    "\n",
    "#==> Python is quite a bit faster for me\n",
    "\n"
   ],
   "id": "aec77cc6c5a9d63",
   "execution_count": 3,
   "outputs": []
  },
  {
   "metadata": {
    "ExecuteTime": {
     "end_time": "2024-06-27T13:38:11.486714Z",
     "start_time": "2024-06-27T13:32:01.190298Z"
    }
   },
   "cell_type": "code",
   "source": [
    "# number of ß steps\n",
    "ß_steps = 10\n",
    "\n",
    "# upper and lower bounds of ß\n",
    "ß_info = (0, 6, ß_steps)\n",
    "\n",
    "# values of m: (for 3: 4, 16, 64)\n",
    "M_values = 3\n",
    "\n",
    "# number of samples per parameter combinations\n",
    "no_of_simulations = 10\n",
    "\n",
    "# number of agents\n",
    "N = 100\n",
    "\n",
    "# number of base iterations\n",
    "base_iterations = 3\n",
    "\n",
    "# run the simulation\n",
    "red, exp = fastModel.SystematicParameterAnalysis(ß_info, M_values, no_of_simulations, N, base_iterations)"
   ],
   "id": "6dcdd50beaa47278",
   "outputs": [],
   "execution_count": 2
  },
  {
   "metadata": {},
   "cell_type": "code",
   "execution_count": null,
   "source": [
    "# * 5 agents * 6 ß samples * 5 no_samples = Faktor 150\n",
    "\n",
    "# 6 minuten * 150 = 900 minuten / 60 = 15 stunden :o\n",
    "\n",
    "# ==> erstmal nur für 100 agenten? dann ca. 15/5 std :)\n",
    "\n",
    "\n",
    "# x = 20 minuten  mit nogil lock bei dem modellcode und ohne nogil lock bei sypaan\n",
    "# x = 16 minuten ohne nogil lock bei dem modellcode und ohne nogil lock bei sypaan\n",
    "# x = 18 minuten ohne nogil lock bei dem modellcode und  mit nogil lock bei sypaan\n",
    "# x = 18 minuten ohne nogil lock bei dem modellcode und  mit parallel=True bei sypaan\n",
    "# x = 16 minuten ohne nogil lock bei dem modellcode und  mit fastmath=True bei sypaan\n",
    "\n",
    "# x = 6 minuten mit numba und early stop                                                <== use this version\n",
    "\n",
    "# x = 18 minuten ohne numba bei sypaan"
   ],
   "id": "4bdf98f7b1a0d3ca",
   "outputs": []
  },
  {
   "metadata": {
    "ExecuteTime": {
     "end_time": "2024-06-25T14:28:16.553640Z",
     "start_time": "2024-06-25T14:28:16.538018Z"
    }
   },
   "cell_type": "code",
   "source": "print(red.shape)",
   "id": "72794b948ccc4e7e",
   "execution_count": 3,
   "outputs": []
  },
  {
   "metadata": {
    "ExecuteTime": {
     "end_time": "2024-06-25T20:36:39.550039Z",
     "start_time": "2024-06-25T20:36:36.851882Z"
    }
   },
   "cell_type": "code",
   "source": [
    "from model_code import utilities_visuals as us\n",
    "import matplotlib.pyplot as plt\n",
    "\n",
    "def consensrate_withrespect_M_against_beta(SyPaAn_data, Ms):\n",
    "\n",
    "    fig = plt.figure(figsize=(13, 7))\n",
    "    fontsize = 14\n",
    "    plt.rc('xtick',labelsize=fontsize-1)\n",
    "    plt.rc('ytick',labelsize=fontsize-1)\n",
    "\n",
    "    number = len(Ms)+4\n",
    "    cmap = plt.get_cmap('autumn')\n",
    "    colors = [cmap(i) for i in np.linspace(0, 1, number)]\n",
    "    colors.reverse()\n",
    "\n",
    "    for i, (color, edgecolor, M) in enumerate(zip(colors[2:-2], colors[4:], Ms)):\n",
    "        SyPaAn_data_M = SyPaAn_data[:,i,:]\n",
    "        #consensus_rate = np.mean(SyPaAn_data_M, axis=1)\n",
    "        consensus_rate = np.mean(np.where(SyPaAn_data_M<0.01, 1, 0), axis=1)\n",
    "\n",
    "        plt.plot(consensus_rate, lw=3, color = color, marker=\"o\", markeredgewidth=1, markeredgecolor=edgecolor,\n",
    "                 label=fr\"Consens Rate for $M = {M}$ at $T = {int(M/4)*1000}$\")\n",
    "                 #label=fr\"Consens Rate for $M = {M}$ at $T = {M * 1000}$\")\n",
    "\n",
    "    plt.xticks(np.arange(0,SyPaAn_data.shape[0],1), np.linspace(0, 5.8, SyPaAn_data.shape[0]).round(2),rotation=90)\n",
    "    plt.title(fr\"Consens Rate at different M's with $T = M/4 * 1000$\", fontsize=fontsize)\n",
    "    plt.legend(fontsize=fontsize)\n",
    "    plt.xlabel(r\"$\\beta$\", fontsize=fontsize)\n",
    "    plt.ylabel(\"Consens Rate\", fontsize=fontsize)\n",
    "\n",
    "    #plt.savefig(f\"consensrate_withrespect_M_against_beta{SyPaAn_data[0]['model_type']}.svg\", format=\"svg\")\n",
    "    plt.show()"
   ],
   "id": "80ad4d94292cd731",
   "execution_count": 2,
   "outputs": []
  },
  {
   "metadata": {
    "ExecuteTime": {
     "end_time": "2024-06-24T09:32:14.641025Z",
     "start_time": "2024-06-24T09:32:13.822897Z"
    }
   },
   "cell_type": "code",
   "source": "consensrate_withrespect_M_against_beta(red, [4,16,64])",
   "id": "5621fe077ce8d51d",
   "execution_count": 16,
   "outputs": []
  },
  {
   "metadata": {
    "ExecuteTime": {
     "end_time": "2024-06-23T13:25:53.341224Z",
     "start_time": "2024-06-23T13:25:51.454784Z"
    }
   },
   "cell_type": "code",
   "source": "consensrate_withrespect_M_against_beta(red, [4,16,64])",
   "id": "24c14a86b882daf9",
   "execution_count": 6,
   "outputs": []
  },
  {
   "metadata": {
    "ExecuteTime": {
     "end_time": "2024-06-23T13:25:58.169601Z",
     "start_time": "2024-06-23T13:25:57.009657Z"
    }
   },
   "cell_type": "code",
   "source": "consensrate_withrespect_M_against_beta(exp, [4,16,64])",
   "id": "8ec3729ec83fd136",
   "execution_count": 7,
   "outputs": []
  },
  {
   "metadata": {},
   "cell_type": "markdown",
   "source": "### one ",
   "id": "59db2650ab6ec351"
  },
  {
   "metadata": {
    "ExecuteTime": {
     "end_time": "2024-06-23T13:29:23.854499Z",
     "start_time": "2024-06-23T13:29:23.843467Z"
    }
   },
   "cell_type": "code",
   "source": [
    "red_ßs60_ßlim_0_6_Ms_3_noS_50_it_250 = red\n",
    "exp_ßs60_ßlim_0_6_Ms_3_noS_50_it_250 = exp"
   ],
   "id": "d5a9e206405a0d92",
   "execution_count": 10,
   "outputs": []
  },
  {
   "metadata": {
    "ExecuteTime": {
     "end_time": "2024-06-23T13:29:25.013938Z",
     "start_time": "2024-06-23T13:29:25.000886Z"
    }
   },
   "cell_type": "code",
   "source": [
    "%store red_ßs30_ßlim_0_6_Ms_3_noS_10_it_250\n",
    "%store exp_ßs30_ßlim_0_6_Ms_3_noS_10_it_250"
   ],
   "id": "b84c98a1cdb6a88d",
   "execution_count": 11,
   "outputs": []
  },
  {
   "metadata": {
    "ExecuteTime": {
     "end_time": "2024-06-23T13:29:25.155281Z",
     "start_time": "2024-06-23T13:29:25.124088Z"
    }
   },
   "cell_type": "code",
   "source": [
    "%store -r red_ßs30_ßlim_0_6_Ms_3_noS_10_it_250\n",
    "%store -r exp_ßs30_ßlim_0_6_Ms_3_noS_10_it_250"
   ],
   "id": "ed61e82b3f766a53",
   "execution_count": 12,
   "outputs": []
  },
  {
   "metadata": {},
   "cell_type": "markdown",
   "source": "#### two",
   "id": "9303c4c013af1f41"
  },
  {
   "metadata": {},
   "cell_type": "code",
   "execution_count": null,
   "source": [
    "red_ßs30_ßlim_0_6_Ms_3_noS_10_it_250 = red\n",
    "exp_ßs30_ßlim_0_6_Ms_3_noS_10_it_250 = exp"
   ],
   "id": "ffde9f733a27f862",
   "outputs": []
  },
  {
   "metadata": {},
   "cell_type": "code",
   "execution_count": null,
   "source": [
    "%store red_ßs30_ßlim_0_6_Ms_3_noS_10_it_250\n",
    "%store exp_ßs30_ßlim_0_6_Ms_3_noS_10_it_250"
   ],
   "id": "8487c076e3ae5f93",
   "outputs": []
  },
  {
   "metadata": {},
   "cell_type": "code",
   "execution_count": null,
   "source": [
    "%store -r red_ßs30_ßlim_0_6_Ms_3_noS_10_it_250\n",
    "%store -r exp_ßs30_ßlim_0_6_Ms_3_noS_10_it_250"
   ],
   "id": "ecc73af9782042bc",
   "outputs": []
  },
  {
   "metadata": {
    "ExecuteTime": {
     "start_time": "2024-06-26T14:06:26.204737Z"
    }
   },
   "cell_type": "code",
   "source": [
    "# number of ß steps\n",
    "ß_steps = 60\n",
    "\n",
    "# upper and lower bounds of ß\n",
    "ß_info = (2, 8, ß_steps)\n",
    "\n",
    "# values of m: (for 3: 4, 16, 64)\n",
    "M_values = 3\n",
    "\n",
    "# number of samples per parameter combinations\n",
    "no_of_simulations = 50\n",
    "\n",
    "# number of agents\n",
    "N = 100\n",
    "\n",
    "# number of base iterations\n",
    "base_iterations = 3\n",
    "\n",
    "# run the simulation\n",
    "red, exp = fastModel.SystematicParameterAnalysis(ß_info, M_values, no_of_simulations, N, base_iterations)\n"
   ],
   "id": "5dc26e93d979998f",
   "execution_count": null,
   "outputs": []
  },
  {
   "metadata": {},
   "cell_type": "code",
   "source": [
    "import matplotlib.pyplot as plt\n",
    "def consensrate_withrespect_M_and_iteration_against_beta(SyPaAn_data, Ms, its):\n",
    "\n",
    "    fig = plt.figure(figsize=(13, 7))\n",
    "    fontsize = 14\n",
    "    plt.rc('xtick',labelsize=fontsize-1)\n",
    "    plt.rc('ytick',labelsize=fontsize-1)\n",
    "\n",
    "    number = len(Ms)+4\n",
    "    cmap = plt.get_cmap('Purples')\n",
    "    colors = [cmap(i) for i in np.linspace(0, 1, number)]\n",
    "    #colors.reverse()\n",
    "\n",
    "    for i, (color, edgecolor, M) in enumerate(zip(colors[2:-2], colors[4:], Ms)):\n",
    "        SyPaAn_data_M = SyPaAn_data[:,i,:,0]\n",
    "        consensus_rate = np.mean(np.where(SyPaAn_data_M>0.2, 1, 0), axis=1)\n",
    "        #consensus_rate = np.mean(np.where(SyPaAn_data_M<0.01, 1, 0), axis=1)\n",
    "\n",
    "        plt.plot(consensus_rate, lw=3, color = color, marker=\"o\", markeredgewidth=1, markeredgecolor=edgecolor,\n",
    "                 label=fr\"Polarization Rate for $M = {M}$ at $T = {its[0]}$\")\n",
    "        #label=fr\"Consens Rate for $M = {M}$ at $T = {M * 1000}$\")\n",
    "\n",
    "    number = len(Ms)+4\n",
    "    cmap = plt.get_cmap('Blues')\n",
    "    colors = [cmap(i) for i in np.linspace(0, 1, number)]\n",
    "    #colors.reverse()\n",
    "\n",
    "    for i, (color, edgecolor, M) in enumerate(zip(colors[2:-2], colors[4:], Ms)):\n",
    "        SyPaAn_data_M = SyPaAn_data[:,i,:,1]\n",
    "        consensus_rate = np.mean(np.where(SyPaAn_data_M>0.2, 1, 0), axis=1)\n",
    "        #consensus_rate = np.mean(np.where(SyPaAn_data_M<0.01, 1, 0), axis=1)\n",
    "\n",
    "        plt.plot(consensus_rate, lw=3, color = color, marker=\"o\", markeredgewidth=1, markeredgecolor=edgecolor,\n",
    "                 label=fr\"Polarization Rate for $M = {M}$ at $T = {its[1]}$\")\n",
    "        #label=fr\"Consens Rate for $M = {M}$ at $T = {M * 1000}$\")\n",
    "\n",
    "    number = len(Ms)+4\n",
    "    cmap = plt.get_cmap('Greens')\n",
    "    colors = [cmap(i) for i in np.linspace(0, 1, number)]\n",
    "    #colors.reverse()\n",
    "\n",
    "    for i, (color, edgecolor, M) in enumerate(zip(colors[2:-2], colors[4:], Ms)):\n",
    "        SyPaAn_data_M = SyPaAn_data[:,i,:,2]\n",
    "        consensus_rate = np.mean(np.where(SyPaAn_data_M>0.2, 1, 0), axis=1)\n",
    "        #consensus_rate = np.mean(np.where(SyPaAn_data_M<0.01, 1, 0), axis=1)\n",
    "\n",
    "        plt.plot(consensus_rate, lw=3, color = color, marker=\"o\", markeredgewidth=1, markeredgecolor=edgecolor,\n",
    "                 label=fr\"Polarization Rate for $M = {M}$ at $T = {its[2]}$\")\n",
    "        #label=fr\"Consens Rate for $M = {M}$ at $T = {M * 1000}$\")\n",
    "\n",
    "    plt.xticks(np.arange(0,SyPaAn_data.shape[0],1), np.linspace(0, 5.8, SyPaAn_data.shape[0]).round(2),rotation=90)\n",
    "    plt.title(fr\"Polarization Rate at different M's with different base iterations\", fontsize=fontsize)\n",
    "    plt.legend(fontsize=fontsize)\n",
    "    plt.xlabel(r\"$\\beta$\", fontsize=fontsize)\n",
    "    plt.ylabel(\"Polarization Rate\", fontsize=fontsize)\n",
    "\n",
    "    #plt.savefig(f\"consensrate_withrespect_M_against_beta{SyPaAn_data[0]['model_type']}.svg\", format=\"svg\")\n",
    "    plt.show()"
   ],
   "id": "9081be97c97c973",
   "execution_count": null,
   "outputs": []
  },
  {
   "metadata": {
    "ExecuteTime": {
     "end_time": "2024-06-25T17:16:35.914229Z",
     "start_time": "2024-06-25T17:16:34.670970Z"
    }
   },
   "cell_type": "code",
   "source": "consensrate_withrespect_M_and_iteration_against_beta(red, Ms=[4,16,64], its=[250,1000,4000])",
   "id": "603be56f7d504795",
   "execution_count": 4,
   "outputs": []
  },
  {
   "metadata": {
    "ExecuteTime": {
     "end_time": "2024-06-25T14:33:27.234814Z",
     "start_time": "2024-06-25T14:33:27.203192Z"
    }
   },
   "cell_type": "code",
   "source": "exp[5,0,0,:]",
   "id": "f98945e6915f0b30",
   "execution_count": 12,
   "outputs": []
  },
  {
   "metadata": {
    "ExecuteTime": {
     "end_time": "2024-06-25T14:32:12.259642Z",
     "start_time": "2024-06-25T14:32:11.003110Z"
    }
   },
   "cell_type": "code",
   "source": "consensrate_withrespect_M_and_iteration_against_beta(exp, Ms=[4,16,64], its=[250,1000,4000])",
   "id": "b3d5e8f7a77e5d4f",
   "execution_count": 9,
   "outputs": []
  },
  {
   "metadata": {
    "ExecuteTime": {
     "end_time": "2024-06-24T08:00:38.582063Z",
     "start_time": "2024-06-24T08:00:38.554340Z"
    }
   },
   "cell_type": "code",
   "source": [
    "#%store reds\n",
    "#%store exps\n",
    "\n",
    "%store -r reds\n",
    "%store -r exps"
   ],
   "id": "60c3288a4c65138c",
   "execution_count": 4,
   "outputs": []
  },
  {
   "metadata": {},
   "cell_type": "code",
   "execution_count": null,
   "source": "",
   "id": "5eed93a36ecc9a82",
   "outputs": []
  }
 ],
 "metadata": {
  "kernelspec": {
   "display_name": "Python 3 (ipykernel)",
   "language": "python",
   "name": "python3"
  },
  "language_info": {
   "codemirror_mode": {
    "name": "ipython",
    "version": 3
   },
   "file_extension": ".py",
   "mimetype": "text/x-python",
   "name": "python",
   "nbconvert_exporter": "python",
   "pygments_lexer": "ipython3",
   "version": "3.8.5"
  }
 },
 "nbformat": 4,
 "nbformat_minor": 5
}
