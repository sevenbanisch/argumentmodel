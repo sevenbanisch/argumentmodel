{
 "cells": [
  {
   "cell_type": "code",
   "id": "a7cfc65c",
   "metadata": {
    "ExecuteTime": {
     "end_time": "2024-06-19T06:14:08.074974Z",
     "start_time": "2024-06-19T06:14:05.064948Z"
    }
   },
   "source": [
    "# import needed packages\n",
    "import numpy as np\n",
    "import simulation_argument_model.model_code.utilities_visuals as ut\n",
    "import simulation_argument_model.model_code.utilities_simulation as us\n",
    "import simulation_argument_model.model_code.ArgModel as normal_am\n",
    "import simulation_argument_model.model_code.reducedArgModel as reduced_am"
   ],
   "outputs": [],
   "execution_count": 1
  },
  {
   "cell_type": "code",
   "source": [
    "M = 4\n",
    "# defines the parameters needed to run the model\n",
    "model_parameters = {\n",
    "    \"no_of_agents\": 100\n",
    "    , \"no_of_iterations\": 16000\n",
    "    # strength of biased processing\n",
    "    , \"ß\": 3.2\n",
    "    # number of implicitly modelled arguments\n",
    "    , \"M\": M\n",
    "    # linkage matrix\n",
    "    , \"C\": us.create_connection_matrix_symmetrical(no_of_arguments=M, normalised=True)\n",
    "    # initiation of agents attitude\n",
    "    , \"initiation\": \"binomial\"\n",
    "}\n",
    "\n",
    "SPA_param = {\n",
    "    'params_to_iter': np.array(['ß', 'M', 'no_of_agents']),\n",
    "    'sims_per_comb': 10,\n",
    "    'boundaries': np.array([[0,6], [4,64], [100,100]]),\n",
    "    'no_of_steps': np.array([3, 3, 1])\n",
    "}"
   ],
   "metadata": {
    "collapsed": false,
    "ExecuteTime": {
     "end_time": "2024-06-19T06:14:16.979171Z",
     "start_time": "2024-06-19T06:14:16.966124Z"
    }
   },
   "id": "179da3495a6fb7ca",
   "outputs": [],
   "execution_count": 2
  },
  {
   "cell_type": "code",
   "source": [
    "measures = {\n",
    "    #\"time_until_consens\": model_parameters[\"no_of_iterations\"],\n",
    "    #, \"mean_attitude_END_VALUE\": 0\n",
    "    \"variance_attitude\": np.zeros(model_parameters[\"no_of_iterations\"])\n",
    "}\n",
    "\n",
    "measures_from_SPA_normal = normal_am.systematic_parameter_analysis(SPA_param, model_parameters, measures)\n",
    "\n",
    "ut.pickle_sim(measures_from_SPA_normal, SPA_param)\n",
    "#%store measures_from_SPA_normal"
   ],
   "metadata": {
    "collapsed": false,
    "jupyter": {
     "is_executing": true
    },
    "ExecuteTime": {
     "start_time": "2024-06-19T06:14:19.076122Z"
    }
   },
   "id": "d535c8df82df342a",
   "outputs": [
    {
     "name": "stdout",
     "output_type": "stream",
     "text": [
      "[  0.   4. 100.]\n",
      "[  0.  34. 100.]\n",
      "[  0.  64. 100.]\n"
     ]
    }
   ],
   "execution_count": null
  },
  {
   "cell_type": "code",
   "source": [
    "measures = {\n",
    "    #\"time_until_consens\": model_parameters[\"no_of_iterations\"],\n",
    "    #, \"mean_attitude_END_VALUE\": 0\n",
    "    #, \"variance_attitude_END_VALUE\": 0\n",
    "    \"variance_attitude\": np.zeros(model_parameters[\"no_of_iterations\"])\n",
    "}\n",
    "measures_from_SPA_reduced = reduced_am.systematic_parameter_analysis(SPA_param, model_parameters, measures)\n",
    "\n",
    "ut.pickle_sim(measures_from_SPA_reduced, SPA_param)"
   ],
   "metadata": {
    "collapsed": false,
    "ExecuteTime": {
     "end_time": "2024-06-19T06:05:45.422732Z",
     "start_time": "2024-06-19T06:05:45.378701Z"
    }
   },
   "id": "1881ba0dd3df650f",
   "outputs": [
    {
     "ename": "NameError",
     "evalue": "name 'model_parameters' is not defined",
     "output_type": "error",
     "traceback": [
      "\u001B[1;31m---------------------------------------------------------------------------\u001B[0m",
      "\u001B[1;31mNameError\u001B[0m                                 Traceback (most recent call last)",
      "Input \u001B[1;32mIn [9]\u001B[0m, in \u001B[0;36m<cell line: 5>\u001B[1;34m()\u001B[0m\n\u001B[0;32m      1\u001B[0m measures \u001B[38;5;241m=\u001B[39m {\n\u001B[0;32m      2\u001B[0m     \u001B[38;5;66;03m#\"time_until_consens\": model_parameters[\"no_of_iterations\"],\u001B[39;00m\n\u001B[0;32m      3\u001B[0m     \u001B[38;5;66;03m#, \"mean_attitude_END_VALUE\": 0\u001B[39;00m\n\u001B[0;32m      4\u001B[0m     \u001B[38;5;66;03m#, \"variance_attitude_END_VALUE\": 0\u001B[39;00m\n\u001B[1;32m----> 5\u001B[0m     \u001B[38;5;124m\"\u001B[39m\u001B[38;5;124mvariance_attitude\u001B[39m\u001B[38;5;124m\"\u001B[39m: np\u001B[38;5;241m.\u001B[39mzeros(\u001B[43mmodel_parameters\u001B[49m[\u001B[38;5;124m\"\u001B[39m\u001B[38;5;124mno_of_iterations\u001B[39m\u001B[38;5;124m\"\u001B[39m])\n\u001B[0;32m      6\u001B[0m }\n\u001B[0;32m      7\u001B[0m measures_from_SPA_reduced \u001B[38;5;241m=\u001B[39m reduced_am\u001B[38;5;241m.\u001B[39msystematic_parameter_analysis(SPA_param, model_parameters, measures)\n\u001B[0;32m      9\u001B[0m ut\u001B[38;5;241m.\u001B[39mpickle_sim(measures_from_SPA_reduced, SPA_param)\n",
      "\u001B[1;31mNameError\u001B[0m: name 'model_parameters' is not defined"
     ]
    }
   ],
   "execution_count": 9
  },
  {
   "cell_type": "code",
   "execution_count": 3,
   "source": [
    "measures_from_SPA_normal = ut.load_sim_from_name(\"NormalModel_binomial_N100_100_M4_64_T16000_S100_ß0_6.p\")"
   ],
   "metadata": {
    "collapsed": false,
    "ExecuteTime": {
     "start_time": "2024-05-27T17:50:11.892583Z",
     "end_time": "2024-05-27T17:50:13.994954Z"
    }
   },
   "id": "7c4da6bc5ed512c3",
   "outputs": []
  },
  {
   "cell_type": "code",
   "execution_count": 3,
   "source": [
    "measures_from_SPA_normal = ut.load_sim(model_parameters, SPA_param, \"NormalModel\")\n",
    "measures_from_SPA_reduced = ut.load_sim(model_parameters, SPA_param, \"ReducedModel\")"
   ],
   "metadata": {
    "collapsed": false,
    "ExecuteTime": {
     "start_time": "2024-06-03T10:29:42.563534Z",
     "end_time": "2024-06-03T10:29:51.461111Z"
    }
   },
   "id": "bb3ac51dae273b89",
   "outputs": []
  },
  {
   "cell_type": "code",
   "execution_count": 5,
   "source": [
    "def filter_for(SPA_data, param_tuples):\n",
    "    SPA_data_filtered = []\n",
    "    for sim in SPA_data:\n",
    "        for param, value in param_tuples:\n",
    "            if sim[param] == value:\n",
    "                SPA_data_filtered.append(sim)\n",
    "\n",
    "    return SPA_data_filtered\n",
    "\n",
    "measures_from_SPA_normal = filter_for(measures_from_SPA_normal, [(\"no_of_agents\", 1000)])\n",
    "measures_from_SPA_reduced = filter_for(measures_from_SPA_reduced, [(\"no_of_agents\", 1000)])"
   ],
   "metadata": {
    "collapsed": false,
    "ExecuteTime": {
     "start_time": "2024-05-20T23:58:12.137982Z",
     "end_time": "2024-05-20T23:58:12.172008Z"
    }
   },
   "id": "505e8a55f2fd7475",
   "outputs": []
  },
  {
   "cell_type": "code",
   "execution_count": null,
   "source": [
    "ut.xy_plot_measurement_boxplot('ß', 'time_until_consens', measures_from_SPA_normal)"
   ],
   "metadata": {
    "collapsed": false,
    "ExecuteTime": {
     "start_time": "2024-05-20T19:42:30.303501Z",
     "end_time": "2024-05-20T19:42:30.773920Z"
    }
   },
   "id": "96c03402fc844718",
   "outputs": []
  },
  {
   "cell_type": "code",
   "execution_count": null,
   "source": [
    "ut.xy_plot_measurement_boxplot('ß', 'time_until_consens', measures_from_SPA_reduced)"
   ],
   "metadata": {
    "collapsed": false,
    "ExecuteTime": {
     "start_time": "2024-05-20T17:42:48.564283Z",
     "end_time": "2024-05-20T17:42:50.157686Z"
    }
   },
   "id": "857f297565f8ee05",
   "outputs": []
  },
  {
   "cell_type": "code",
   "execution_count": null,
   "source": [
    "ut.plot_beta_against_time_until_consens_two_sims(measures_from_SPA_normal, measures_from_SPA_reduced, 1000, \"low_beta\")"
   ],
   "metadata": {
    "collapsed": false,
    "ExecuteTime": {
     "start_time": "2024-05-20T17:43:33.003151Z",
     "end_time": "2024-05-20T17:43:35.850937Z"
    }
   },
   "id": "3557402151c32bd7",
   "outputs": []
  },
  {
   "cell_type": "code",
   "execution_count": null,
   "source": [
    "ut.variance_consensusrate_against_beta(measures_from_SPA_reduced, 1000)"
   ],
   "metadata": {
    "collapsed": false,
    "ExecuteTime": {
     "start_time": "2024-05-20T17:45:41.257837Z",
     "end_time": "2024-05-20T17:45:43.924382Z"
    }
   },
   "id": "47231bde853bb4ca",
   "outputs": []
  },
  {
   "cell_type": "code",
   "execution_count": null,
   "source": [
    "ut.consensrate_withrespect_T_against_beta(measures_from_SPA_reduced, [1000, 2000, 4000, 8000, 16000, 32000])"
   ],
   "metadata": {
    "collapsed": false,
    "ExecuteTime": {
     "start_time": "2024-04-16T12:55:50.427533Z",
     "end_time": "2024-04-16T12:55:56.745813Z"
    }
   },
   "id": "6b62269a8b448bf6",
   "outputs": []
  },
  {
   "cell_type": "code",
   "execution_count": null,
   "source": [
    "ut.convergence_time_against_beta(measures_from_SPA_normal, measures_from_SPA_reduced)"
   ],
   "metadata": {
    "collapsed": false,
    "ExecuteTime": {
     "start_time": "2024-04-16T12:54:59.243329Z",
     "end_time": "2024-04-16T12:55:01.397976Z"
    }
   },
   "id": "227bcd478caaf08d",
   "outputs": []
  },
  {
   "cell_type": "code",
   "execution_count": 4,
   "source": [
    "ut.consensrate_withrespect_M_against_beta(measures_from_SPA_normal, [4,34,64], 1000)"
   ],
   "metadata": {
    "collapsed": false,
    "ExecuteTime": {
     "start_time": "2024-06-03T10:29:57.153065Z",
     "end_time": "2024-06-03T10:29:59.537383Z"
    }
   },
   "id": "ae5598a7fc4a7510",
   "outputs": []
  },
  {
   "cell_type": "code",
   "execution_count": 5,
   "source": [
    "ut.consensrate_withrespect_M_against_beta(measures_from_SPA_reduced, [4,34,64], 1000)"
   ],
   "metadata": {
    "collapsed": false,
    "ExecuteTime": {
     "start_time": "2024-06-03T10:30:05.669205Z",
     "end_time": "2024-06-03T10:30:07.419471Z"
    }
   },
   "id": "2537afb1f397b65f",
   "outputs": []
  },
  {
   "cell_type": "code",
   "execution_count": null,
   "source": [],
   "metadata": {
    "collapsed": false
   },
   "id": "ef32e4807c63f1a7",
   "outputs": []
  }
 ],
 "metadata": {
  "kernelspec": {
   "display_name": "Python 3 (ipykernel)",
   "language": "python",
   "name": "python3"
  },
  "language_info": {
   "codemirror_mode": {
    "name": "ipython",
    "version": 3
   },
   "file_extension": ".py",
   "mimetype": "text/x-python",
   "name": "python",
   "nbconvert_exporter": "python",
   "pygments_lexer": "ipython3",
   "version": "3.8.5"
  }
 },
 "nbformat": 4,
 "nbformat_minor": 5
}
