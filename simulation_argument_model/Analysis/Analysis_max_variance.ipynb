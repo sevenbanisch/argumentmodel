{
 "cells": [
  {
   "cell_type": "code",
   "id": "a7cfc65c",
   "metadata": {
    "ExecuteTime": {
     "end_time": "2024-06-19T06:26:30.303797Z",
     "start_time": "2024-06-19T06:26:27.069227Z"
    }
   },
   "source": [
    "# import needed packages\n",
    "import numpy as np\n",
    "from model_code import utilities_visuals as ut\n",
    "from model_code import utilities_simulation as us\n",
    "\n",
    "from model_code import ArgModel as normal_am\n",
    "from model_code import reducedArgModel as reduced_am"
   ],
   "execution_count": 1,
   "outputs": []
  },
  {
   "cell_type": "code",
   "execution_count": 3,
   "source": [
    "M = 4\n",
    "# defines the parameters needed to run the model\n",
    "model_parameters = {\n",
    "    \"no_of_agents\": 100\n",
    "    , \"no_of_iterations\": 40000\n",
    "    # strength of biased processing\n",
    "    , \"ß\": 3.2\n",
    "    # number of implicitly modelled arguments\n",
    "    , \"M\": M\n",
    "    # linkage matrix\n",
    "    , \"C\": us.create_connection_matrix_symmetrical(no_of_arguments=M, normalised=True)\n",
    "}\n",
    "\n",
    "SPA_param = {\n",
    "    'params_to_iter': np.array(['ß']),\n",
    "    'sims_per_comb': 100,\n",
    "    'boundaries': np.array([[0, 3]]),\n",
    "    'no_of_steps': np.array([76])\n",
    "}"
   ],
   "metadata": {
    "collapsed": false,
    "ExecuteTime": {
     "start_time": "2024-03-13T13:07:32.389282Z",
     "end_time": "2024-03-13T13:07:35.304521Z"
    }
   },
   "id": "1595332335b1316",
   "outputs": []
  },
  {
   "cell_type": "code",
   "execution_count": null,
   "source": [
    "measures = {\n",
    "    #\"time_until_consens\": -1\n",
    "    #\"max_variance\": 0\n",
    "    #, \"mean_attitude_END_VALUE\": 0\n",
    "    \"variance_attitude\": 0\n",
    "}\n",
    "measures_from_SPA_normal = normal_am.systematic_parameter_analysis(SPA_param, model_parameters, measures)\n",
    "%store measures_from_SPA_normal"
   ],
   "metadata": {
    "collapsed": false,
    "ExecuteTime": {
     "start_time": "2023-11-11T17:01:09.801120Z",
     "end_time": "2023-11-11T17:17:47.614000Z"
    }
   },
   "id": "cc237f3ee88ca105",
   "outputs": []
  },
  {
   "cell_type": "code",
   "execution_count": 3,
   "source": [
    "%store -r measures_from_SPA_normal\n",
    "ut.xy_plot_measurement(x_axis=\"max_variance\", y_axis=\"time_until_consens\", SyPaAn_data=measures_from_SPA_normal.copy(), log_scale=True)"
   ],
   "metadata": {
    "collapsed": false,
    "ExecuteTime": {
     "start_time": "2023-11-20T10:11:56.441867Z",
     "end_time": "2023-11-20T10:11:56.823354Z"
    }
   },
   "id": "7633f648dd1a2b9",
   "outputs": []
  },
  {
   "cell_type": "code",
   "execution_count": 3,
   "source": [
    "measures = {\n",
    "    \"time_until_consens\": -1\n",
    "    , \"max_variance\": 0\n",
    "    #, \"mean_attitude_END_VALUE\": 0\n",
    "    #, \"variance_attitude_END_VALUE\": 0\n",
    "}\n",
    "measures_from_SPA_reduced = reduced_am.systematic_parameter_analysis(SPA_param, model_parameters, measures)\n",
    "%store measures_from_SPA_reduced"
   ],
   "metadata": {
    "collapsed": false,
    "ExecuteTime": {
     "start_time": "2023-11-15T08:37:13.632671Z",
     "end_time": "2023-11-15T11:16:17.512919Z"
    }
   },
   "id": "17c83c3dda790b23",
   "outputs": []
  },
  {
   "cell_type": "code",
   "execution_count": 5,
   "source": [
    "%store -r measures_from_SPA_reduced\n",
    "ut.xy_plot_measurement(x_axis=\"max_variance\", y_axis=\"time_until_consens\", SyPaAn_data=measures_from_SPA_reduced, log_scale=True)"
   ],
   "metadata": {
    "collapsed": false,
    "ExecuteTime": {
     "start_time": "2023-11-20T10:13:45.950283Z",
     "end_time": "2023-11-20T10:13:46.216108Z"
    }
   },
   "id": "128b3ed8bf130d06",
   "outputs": []
  },
  {
   "cell_type": "code",
   "execution_count": 15,
   "source": [
    "ut.xy_plot_measurement(x_axis=\"ß\", y_axis=\"max_variance\", SyPaAn_data=measures_from_SPA_reduced)"
   ],
   "metadata": {
    "collapsed": false,
    "ExecuteTime": {
     "start_time": "2023-11-15T12:08:21.925815Z",
     "end_time": "2023-11-15T12:08:22.204928Z"
    }
   },
   "id": "85eb615bab06da29",
   "outputs": []
  },
  {
   "cell_type": "code",
   "execution_count": 17,
   "source": [
    "measures_from_SPA_reduced_100agent = measures_from_SPA_reduced\n",
    "%store measures_from_SPA_reduced_100agent"
   ],
   "metadata": {
    "collapsed": false,
    "ExecuteTime": {
     "start_time": "2023-11-10T09:45:59.096616Z",
     "end_time": "2023-11-10T09:45:59.140766Z"
    }
   },
   "id": "7742c9da43fe4ac8",
   "outputs": []
  },
  {
   "cell_type": "code",
   "execution_count": 18,
   "source": [
    "measures_from_SPA_normal_100agent = measures_from_SPA_normal\n",
    "%store measures_from_SPA_normal_100agent"
   ],
   "metadata": {
    "collapsed": false,
    "ExecuteTime": {
     "start_time": "2023-11-10T09:46:00.120046Z",
     "end_time": "2023-11-10T09:46:00.175623Z"
    }
   },
   "id": "730acadca60362a2",
   "outputs": []
  },
  {
   "cell_type": "code",
   "execution_count": null,
   "source": [],
   "metadata": {
    "collapsed": false
   },
   "id": "b218c0a5ed9ad0e2",
   "outputs": []
  }
 ],
 "metadata": {
  "kernelspec": {
   "display_name": "Python 3 (ipykernel)",
   "language": "python",
   "name": "python3"
  },
  "language_info": {
   "codemirror_mode": {
    "name": "ipython",
    "version": 3
   },
   "file_extension": ".py",
   "mimetype": "text/x-python",
   "name": "python",
   "nbconvert_exporter": "python",
   "pygments_lexer": "ipython3",
   "version": "3.8.5"
  }
 },
 "nbformat": 4,
 "nbformat_minor": 5
}
