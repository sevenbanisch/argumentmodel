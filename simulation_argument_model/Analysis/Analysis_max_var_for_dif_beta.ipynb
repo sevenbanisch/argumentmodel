{
 "cells": [
  {
   "cell_type": "code",
   "execution_count": 1,
   "id": "a7cfc65c",
   "metadata": {
    "ExecuteTime": {
     "start_time": "2024-03-01T16:49:42.906103Z",
     "end_time": "2024-03-01T16:49:45.595241Z"
    }
   },
   "source": [
    "# import needed packages\n",
    "import numpy as np\n",
    "from model_code import utilities_visuals as ut\n",
    "from model_code import utilities_simulation as us\n",
    "\n",
    "from model_code import ArgModel as normal_am\n",
    "from model_code import reducedArgModel as reduced_am"
   ],
   "outputs": []
  },
  {
   "cell_type": "code",
   "execution_count": 2,
   "source": [
    "M =4\n",
    "# defines the parameters needed to run the model\n",
    "model_parameters = {\n",
    "    \"no_of_agents\": 100\n",
    "    , \"no_of_iterations\": 4000\n",
    "    # strength of biased processing\n",
    "    , \"ß\": 3.2\n",
    "    # number of implicitly modelled arguments\n",
    "    , \"M\": M\n",
    "    # linkage matrix\n",
    "    , \"C\": us.create_connection_matrix_symmetrical(no_of_arguments=M, normalised=True)\n",
    "}\n",
    "\n",
    "SPA_param = {\n",
    "    'params_to_iter': np.array(['ß']),\n",
    "    'sims_per_comb': 25,\n",
    "    'boundaries': np.array([[0, 10]]),\n",
    "    'no_of_steps': np.array([101])\n",
    "}"
   ],
   "metadata": {
    "collapsed": false,
    "ExecuteTime": {
     "start_time": "2024-03-01T16:49:47.633588Z",
     "end_time": "2024-03-01T16:49:47.665291Z"
    }
   },
   "id": "a739cd2c8b2a4648",
   "outputs": []
  },
  {
   "cell_type": "code",
   "execution_count": null,
   "source": [
    "measures = {\n",
    "    #\"time_until_consens\": -1\n",
    "     \"max_variance\": 0\n",
    "    , \"polarization_banisch_single\": 0\n",
    "    #, \"mean_attitude_END_VALUE\": 0\n",
    "    #, \"variance_attitude_END_VALUE\": 0\n",
    "}\n",
    "measures_from_SPA_normal = normal_am.systematic_parameter_analysis(SPA_param, model_parameters, measures)\n",
    "%store measures_from_SPA_normal"
   ],
   "metadata": {
    "collapsed": false,
    "ExecuteTime": {
     "start_time": "2023-11-27T11:27:22.057769Z",
     "end_time": "2023-11-27T12:07:10.738711Z"
    }
   },
   "id": "c3ca60b513538d0",
   "outputs": []
  },
  {
   "cell_type": "code",
   "execution_count": null,
   "source": [
    "%store -r measures_from_SPA_normal\n",
    "ut.xy_plot_measurement_error_plot(x_axis=\"ß\", y_axis=\"polarization_banisch_single\", SyPaAn_data=measures_from_SPA_normal)"
   ],
   "metadata": {
    "collapsed": false,
    "ExecuteTime": {
     "start_time": "2023-11-27T12:07:10.745709Z",
     "end_time": "2023-11-27T12:07:11.082961Z"
    }
   },
   "id": "19d4641af219116a",
   "outputs": []
  },
  {
   "cell_type": "code",
   "execution_count": 18,
   "source": [
    "measures = {\n",
    "    #\"time_until_consens\": -1\n",
    "     \"max_variance\": 0\n",
    "    , \"polarization_banisch_single\": 0\n",
    "    #, \"mean_attitude_END_VALUE\": 0\n",
    "    #, \"variance_attitude_END_VALUE\": 0\n",
    "}\n",
    "measures_from_SPA_reduced = reduced_am.systematic_parameter_analysis(SPA_param, model_parameters, measures)\n",
    "%store measures_from_SPA_reduced"
   ],
   "metadata": {
    "collapsed": false,
    "ExecuteTime": {
     "start_time": "2023-11-27T12:07:11.087958Z",
     "end_time": "2023-11-27T12:26:44.700153Z"
    }
   },
   "id": "9e393e7f142bf4f9",
   "outputs": []
  },
  {
   "cell_type": "code",
   "execution_count": 6,
   "source": [
    "%store -r measures_from_SPA_reduced\n",
    "%store -r measures_from_SPA_normal"
   ],
   "metadata": {
    "collapsed": false,
    "ExecuteTime": {
     "start_time": "2024-03-01T16:50:07.727212Z",
     "end_time": "2024-03-01T16:50:07.758509Z"
    }
   },
   "id": "15d2416bc5f0df2f",
   "outputs": []
  },
  {
   "cell_type": "code",
   "execution_count": 7,
   "source": [
    "color1 = \"lightblue\"\n",
    "color2 = \"darkorange\"\n",
    "ut.plot_beta_against_max_var_two_sims(\"ß\", \"polarization_banisch_single\", measures_from_SPA_reduced, measures_from_SPA_normal, color1, color2)"
   ],
   "metadata": {
    "collapsed": false,
    "ExecuteTime": {
     "start_time": "2024-03-01T16:50:08.456435Z",
     "end_time": "2024-03-01T16:50:08.840277Z"
    }
   },
   "id": "271e5e23e2af9519",
   "outputs": []
  },
  {
   "cell_type": "code",
   "execution_count": 3,
   "source": [
    "%store -r measures_from_SPA_reduced_M4_N100\n",
    "%store -r measures_from_SPA_reduced_M8_N100"
   ],
   "metadata": {
    "collapsed": false,
    "ExecuteTime": {
     "start_time": "2024-03-01T16:49:52.817805Z",
     "end_time": "2024-03-01T16:49:52.865148Z"
    }
   },
   "id": "571973596c84f7e7",
   "outputs": []
  },
  {
   "cell_type": "code",
   "execution_count": 4,
   "source": [
    "# how is the following figure looking for the normal model? Does it \"walk\" to the right as well? Or not at all?"
   ],
   "metadata": {
    "collapsed": false,
    "ExecuteTime": {
     "start_time": "2024-03-01T16:49:53.246280Z",
     "end_time": "2024-03-01T16:49:53.277946Z"
    }
   },
   "id": "dc70c29fa2b2c205",
   "outputs": []
  },
  {
   "cell_type": "code",
   "execution_count": 5,
   "source": [
    "color1 = \"lightblue\"\n",
    "color2 = \"blue\"\n",
    "ut.plot_beta_against_max_var_two_sims(\"ß\", \"max_variance\", measures_from_SPA_reduced_M4_N100, measures_from_SPA_reduced_M8_N100, color1, color2)"
   ],
   "metadata": {
    "collapsed": false,
    "ExecuteTime": {
     "start_time": "2024-03-01T16:49:53.842322Z",
     "end_time": "2024-03-01T16:49:54.821910Z"
    }
   },
   "id": "cd3ffb9cb4b17464",
   "outputs": []
  },
  {
   "cell_type": "code",
   "execution_count": null,
   "source": [],
   "metadata": {
    "collapsed": false
   },
   "id": "22c2353311cee8ad",
   "outputs": []
  }
 ],
 "metadata": {
  "kernelspec": {
   "display_name": "Python 3 (ipykernel)",
   "language": "python",
   "name": "python3"
  },
  "language_info": {
   "codemirror_mode": {
    "name": "ipython",
    "version": 3
   },
   "file_extension": ".py",
   "mimetype": "text/x-python",
   "name": "python",
   "nbconvert_exporter": "python",
   "pygments_lexer": "ipython3",
   "version": "3.8.5"
  }
 },
 "nbformat": 4,
 "nbformat_minor": 5
}
