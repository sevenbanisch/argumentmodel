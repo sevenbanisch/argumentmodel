{
 "cells": [
  {
   "cell_type": "code",
   "id": "a7cfc65c",
   "metadata": {
    "ExecuteTime": {
     "end_time": "2024-06-19T06:28:12.348513Z",
     "start_time": "2024-06-19T06:28:12.338141Z"
    }
   },
   "source": [
    "# import needed packages\n",
    "import numpy as np\n",
    "from model_code import utilities_visuals as ut\n",
    "from model_code import utilities_simulation as us\n",
    "\n",
    "from model_code import ArgModel as normal_am\n",
    "from model_code import reducedArgModel as reduced_am"
   ],
   "outputs": [],
   "execution_count": 2
  },
  {
   "cell_type": "code",
   "id": "74e6bc82",
   "metadata": {
    "ExecuteTime": {
     "end_time": "2024-06-19T06:28:13.707340Z",
     "start_time": "2024-06-19T06:28:13.686407Z"
    }
   },
   "source": [
    "M = 4\n",
    "# defines the parameters needed to run the model\n",
    "model_parameters = {\n",
    "    \"no_of_agents\": 500\n",
    "    , \"no_of_iterations\": 5000\n",
    "    # strength of biased processing\n",
    "    ,\"ß\": 3.5\n",
    "    # Number of implicitly modelled arguments\n",
    "    ,\"M\": M\n",
    "    # linkage matrix\n",
    "    , \"C\": us.create_connection_matrix_symmetrical(no_of_arguments=M, normalised=True)\n",
    "    }\n"
   ],
   "outputs": [],
   "execution_count": 3
  },
  {
   "cell_type": "code",
   "source": [
    "measures = {\n",
    "    \"attitude_of_all_agents\": np.zeros((model_parameters[\"no_of_agents\"], model_parameters[\"no_of_iterations\"]))\n",
    "    , \"mean_attitude\": np.zeros(model_parameters[\"no_of_iterations\"])\n",
    "    , \"variance_attitude\": np.zeros(model_parameters[\"no_of_iterations\"])\n",
    "    , \"slope_variance\" : np.zeros(model_parameters[\"no_of_iterations\"])\n",
    "}\n",
    "# simulates a model run and saves the returned data for later use\n",
    "measures_reduced = reduced_am.simulate_agent_interaction(model_parameters, measures)"
   ],
   "metadata": {
    "collapsed": false,
    "ExecuteTime": {
     "end_time": "2024-06-19T06:28:18.135497Z",
     "start_time": "2024-06-19T06:28:17.073272Z"
    }
   },
   "id": "c76f8fbd8feee92c",
   "outputs": [
    {
     "ename": "KeyError",
     "evalue": "'initiation'",
     "output_type": "error",
     "traceback": [
      "\u001B[1;31m---------------------------------------------------------------------------\u001B[0m",
      "\u001B[1;31mKeyError\u001B[0m                                  Traceback (most recent call last)",
      "Input \u001B[1;32mIn [4]\u001B[0m, in \u001B[0;36m<cell line: 8>\u001B[1;34m()\u001B[0m\n\u001B[0;32m      1\u001B[0m measures \u001B[38;5;241m=\u001B[39m {\n\u001B[0;32m      2\u001B[0m     \u001B[38;5;124m\"\u001B[39m\u001B[38;5;124mattitude_of_all_agents\u001B[39m\u001B[38;5;124m\"\u001B[39m: np\u001B[38;5;241m.\u001B[39mzeros((model_parameters[\u001B[38;5;124m\"\u001B[39m\u001B[38;5;124mno_of_agents\u001B[39m\u001B[38;5;124m\"\u001B[39m], model_parameters[\u001B[38;5;124m\"\u001B[39m\u001B[38;5;124mno_of_iterations\u001B[39m\u001B[38;5;124m\"\u001B[39m]))\n\u001B[0;32m      3\u001B[0m     , \u001B[38;5;124m\"\u001B[39m\u001B[38;5;124mmean_attitude\u001B[39m\u001B[38;5;124m\"\u001B[39m: np\u001B[38;5;241m.\u001B[39mzeros(model_parameters[\u001B[38;5;124m\"\u001B[39m\u001B[38;5;124mno_of_iterations\u001B[39m\u001B[38;5;124m\"\u001B[39m])\n\u001B[0;32m      4\u001B[0m     , \u001B[38;5;124m\"\u001B[39m\u001B[38;5;124mvariance_attitude\u001B[39m\u001B[38;5;124m\"\u001B[39m: np\u001B[38;5;241m.\u001B[39mzeros(model_parameters[\u001B[38;5;124m\"\u001B[39m\u001B[38;5;124mno_of_iterations\u001B[39m\u001B[38;5;124m\"\u001B[39m])\n\u001B[0;32m      5\u001B[0m     , \u001B[38;5;124m\"\u001B[39m\u001B[38;5;124mslope_variance\u001B[39m\u001B[38;5;124m\"\u001B[39m : np\u001B[38;5;241m.\u001B[39mzeros(model_parameters[\u001B[38;5;124m\"\u001B[39m\u001B[38;5;124mno_of_iterations\u001B[39m\u001B[38;5;124m\"\u001B[39m])\n\u001B[0;32m      6\u001B[0m }\n\u001B[0;32m      7\u001B[0m \u001B[38;5;66;03m# simulates a model run and saves the returned data for later use\u001B[39;00m\n\u001B[1;32m----> 8\u001B[0m measures_reduced \u001B[38;5;241m=\u001B[39m \u001B[43mreduced_am\u001B[49m\u001B[38;5;241;43m.\u001B[39;49m\u001B[43msimulate_agent_interaction\u001B[49m\u001B[43m(\u001B[49m\u001B[43mmodel_parameters\u001B[49m\u001B[43m,\u001B[49m\u001B[43m \u001B[49m\u001B[43mmeasures\u001B[49m\u001B[43m)\u001B[49m\n",
      "File \u001B[1;32m~\\Documents\\GitHub\\argumentmodel\\simulation_argument_model\\model_code\\reducedArgModel.py:106\u001B[0m, in \u001B[0;36msimulate_agent_interaction\u001B[1;34m(model_parameters, measures)\u001B[0m\n\u001B[0;32m    103\u001B[0m     \u001B[38;5;28;01mraise\u001B[39;00m \u001B[38;5;167;01mValueError\u001B[39;00m(\u001B[38;5;124m\"\u001B[39m\u001B[38;5;124mThe number of implicitly modelled arguments M must be of type int\u001B[39m\u001B[38;5;124m\"\u001B[39m)\n\u001B[0;32m    105\u001B[0m \u001B[38;5;66;03m# initiates the agents\u001B[39;00m\n\u001B[1;32m--> 106\u001B[0m agents_att \u001B[38;5;241m=\u001B[39m initiate_agents(no_of_agents, implied_C, \u001B[43mmodel_parameters\u001B[49m\u001B[43m[\u001B[49m\u001B[38;5;124;43m\"\u001B[39;49m\u001B[38;5;124;43minitiation\u001B[39;49m\u001B[38;5;124;43m\"\u001B[39;49m\u001B[43m]\u001B[49m)\n\u001B[0;32m    107\u001B[0m agent_indices \u001B[38;5;241m=\u001B[39m np\u001B[38;5;241m.\u001B[39marange(\u001B[38;5;241m0\u001B[39m, no_of_agents)\n\u001B[0;32m    109\u001B[0m \u001B[38;5;66;03m# simulates a single iteration\u001B[39;00m\n",
      "\u001B[1;31mKeyError\u001B[0m: 'initiation'"
     ]
    }
   ],
   "execution_count": 4
  },
  {
   "cell_type": "code",
   "execution_count": 8,
   "source": [
    "#creates the one look peek for a single simulation\n",
    "fig = ut.two_d_histogramm_single_simulation(measures_reduced[\"attitude_of_all_agents\"], 9, model_parameters[\"C\"])"
   ],
   "metadata": {
    "collapsed": false,
    "ExecuteTime": {
     "start_time": "2024-03-01T18:09:27.698479Z",
     "end_time": "2024-03-01T18:09:28.981819Z"
    }
   },
   "id": "526bcfd77b57f214",
   "outputs": []
  },
  {
   "cell_type": "code",
   "execution_count": 9,
   "id": "4052eb26",
   "metadata": {
    "ExecuteTime": {
     "start_time": "2024-03-01T18:09:31.065589Z",
     "end_time": "2024-03-01T18:09:31.388310Z"
    }
   },
   "source": [
    "#creates the one look peek for a single simulation\n",
    "import matplotlib.pyplot as plt\n",
    "plt.plot(measures[\"slope_variance\"])"
   ],
   "outputs": []
  },
  {
   "cell_type": "code",
   "execution_count": 11,
   "source": [
    "measures_reduced[\"variance_attitude\"][0]"
   ],
   "metadata": {
    "collapsed": false,
    "ExecuteTime": {
     "start_time": "2023-11-20T11:32:01.899079Z",
     "end_time": "2023-11-20T11:32:01.919705Z"
    }
   },
   "id": "cc3066e62315fee5",
   "outputs": []
  },
  {
   "cell_type": "code",
   "execution_count": 10,
   "id": "d3adf9ee",
   "metadata": {
    "ExecuteTime": {
     "start_time": "2023-11-27T12:12:28.500937Z",
     "end_time": "2023-11-27T12:12:30.175746Z"
    }
   },
   "source": [
    "measures = {\n",
    "    \"attitude_of_all_agents\": np.zeros((model_parameters[\"no_of_agents\"], model_parameters[\"no_of_iterations\"]))\n",
    "    #, \"mean_attitude\": np.zeros(model_parameters[\"no_of_iterations\"])\n",
    "    , \"variance_attitude\": np.zeros(model_parameters[\"no_of_iterations\"])\n",
    "    , \"slope_variance\": np.zeros(model_parameters[\"no_of_iterations\"])\n",
    "    #takes too long for 1000 agents\n",
    "    #, \"correlation_of_evaluations\": np.zeros((model_parameters[\"no_of_agents\"], model_parameters[\"no_of_agents\"], model_parameters[\"no_of_iterations\"]))\n",
    "    }\n",
    "\n",
    "measures_normal = normal_am.simulate_agent_interaction(model_parameters, measures)"
   ],
   "outputs": []
  },
  {
   "cell_type": "code",
   "execution_count": 11,
   "id": "5beccfc2",
   "metadata": {
    "ExecuteTime": {
     "start_time": "2023-11-27T12:12:30.181297Z",
     "end_time": "2023-11-27T12:12:31.979472Z"
    }
   },
   "source": [
    "#creates the one look peek for a single simulation\n",
    "fig = ut.two_d_histogramm_single_simulation(measures_normal[\"attitude_of_all_agents\"], 9, model_parameters[\"C\"])"
   ],
   "outputs": []
  },
  {
   "cell_type": "code",
   "execution_count": 12,
   "source": [
    "import matplotlib.pyplot as plt\n",
    "plt.plot(measures_normal[\"slope_variance\"])"
   ],
   "metadata": {
    "collapsed": false,
    "ExecuteTime": {
     "start_time": "2023-11-27T12:12:31.981499Z",
     "end_time": "2023-11-27T12:12:32.474290Z"
    }
   },
   "id": "6b1d594e7c16795e",
   "outputs": []
  },
  {
   "cell_type": "code",
   "execution_count": 18,
   "source": [
    "measures_normal[\"variance_attitude\"][0]"
   ],
   "metadata": {
    "collapsed": false,
    "ExecuteTime": {
     "start_time": "2023-11-20T11:29:05.696837Z",
     "end_time": "2023-11-20T11:29:05.724896Z"
    }
   },
   "id": "2849b7e0ffd6b93b",
   "outputs": []
  },
  {
   "cell_type": "code",
   "execution_count": null,
   "source": [],
   "metadata": {
    "collapsed": false
   },
   "id": "69dbd3e71c9e20b5",
   "outputs": []
  }
 ],
 "metadata": {
  "kernelspec": {
   "display_name": "Python 3 (ipykernel)",
   "language": "python",
   "name": "python3"
  },
  "language_info": {
   "codemirror_mode": {
    "name": "ipython",
    "version": 3
   },
   "file_extension": ".py",
   "mimetype": "text/x-python",
   "name": "python",
   "nbconvert_exporter": "python",
   "pygments_lexer": "ipython3",
   "version": "3.8.5"
  }
 },
 "nbformat": 4,
 "nbformat_minor": 5
}
