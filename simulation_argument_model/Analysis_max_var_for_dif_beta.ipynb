{
 "cells": [
  {
   "cell_type": "code",
   "execution_count": 1,
   "id": "a7cfc65c",
   "metadata": {
    "ExecuteTime": {
     "start_time": "2023-11-27T12:27:19.900060Z",
     "end_time": "2023-11-27T12:27:22.401307Z"
    }
   },
   "outputs": [],
   "source": [
    "# import needed packages\n",
    "import numpy as np\n",
    "from model_code import utilities_visuals as ut\n",
    "from model_code import utilities_simulation as us\n",
    "\n",
    "from model_code import ArgModel as normal_am\n",
    "from model_code import reducedArgModel as reduced_am"
   ]
  },
  {
   "cell_type": "code",
   "execution_count": 2,
   "outputs": [],
   "source": [
    "M =4\n",
    "# defines the parameters needed to run the model\n",
    "model_parameters = {\n",
    "    \"no_of_agents\": 100\n",
    "    , \"no_of_iterations\": 4000\n",
    "    # strength of biased processing\n",
    "    , \"ß\": 3.2\n",
    "    # number of implicitly modelled arguments\n",
    "    , \"M\": M\n",
    "    # linkage matrix\n",
    "    , \"C\": us.create_connection_matrix_symmetrical(no_of_arguments=M, normalised=True)\n",
    "}\n",
    "\n",
    "SPA_param = {\n",
    "    'params_to_iter': np.array(['ß']),\n",
    "    'sims_per_comb': 25,\n",
    "    'boundaries': np.array([[0, 10]]),\n",
    "    'no_of_steps': np.array([101])\n",
    "}"
   ],
   "metadata": {
    "collapsed": false,
    "ExecuteTime": {
     "start_time": "2023-11-27T12:27:22.410302Z",
     "end_time": "2023-11-27T12:27:22.413301Z"
    }
   }
  },
  {
   "cell_type": "code",
   "execution_count": null,
   "outputs": [
    {
     "name": "stdout",
     "output_type": "stream",
     "text": [
      "[0.]\n",
      "[0.1]\n",
      "[0.2]\n",
      "[0.3]\n",
      "[0.4]\n",
      "[0.5]\n",
      "[0.6]\n",
      "[0.7]\n",
      "[0.8]\n",
      "[0.9]\n",
      "[1.]\n",
      "[1.1]\n",
      "[1.2]\n",
      "[1.3]\n",
      "[1.4]\n",
      "[1.5]\n",
      "[1.6]\n",
      "[1.7]\n",
      "[1.8]\n",
      "[1.9]\n",
      "[2.]\n",
      "[2.1]\n",
      "[2.2]\n",
      "[2.3]\n",
      "[2.4]\n",
      "[2.5]\n",
      "[2.6]\n",
      "[2.7]\n",
      "[2.8]\n",
      "[2.9]\n",
      "[3.]\n",
      "[3.1]\n",
      "[3.2]\n",
      "[3.3]\n",
      "[3.4]\n",
      "[3.5]\n",
      "[3.6]\n",
      "[3.7]\n",
      "[3.8]\n",
      "[3.9]\n",
      "[4.]\n",
      "[4.1]\n",
      "[4.2]\n",
      "[4.3]\n",
      "[4.4]\n",
      "[4.5]\n",
      "[4.6]\n",
      "[4.7]\n",
      "[4.8]\n",
      "[4.9]\n",
      "[5.]\n",
      "[5.1]\n",
      "[5.2]\n",
      "[5.3]\n",
      "[5.4]\n",
      "[5.5]\n",
      "[5.6]\n",
      "[5.7]\n",
      "[5.8]\n",
      "[5.9]\n",
      "[6.]\n",
      "[6.1]\n",
      "[6.2]\n",
      "[6.3]\n",
      "[6.4]\n",
      "[6.5]\n",
      "[6.6]\n"
     ]
    }
   ],
   "source": [
    "measures = {\n",
    "    #\"time_until_consens\": -1\n",
    "     \"max_variance\": 0\n",
    "    , \"polarization_banisch_single\": 0\n",
    "    #, \"mean_attitude_END_VALUE\": 0\n",
    "    #, \"variance_attitude_END_VALUE\": 0\n",
    "}\n",
    "measures_from_SPA_normal = normal_am.systematic_parameter_analysis(SPA_param, model_parameters, measures)\n",
    "%store measures_from_SPA_normal"
   ],
   "metadata": {
    "collapsed": false,
    "ExecuteTime": {
     "start_time": "2023-11-27T11:27:22.057769Z",
     "end_time": "2023-11-27T12:07:10.738711Z"
    },
    "pycharm": {
     "is_executing": true
    }
   }
  },
  {
   "cell_type": "code",
   "execution_count": null,
   "outputs": [],
   "source": [
    "%store -r measures_from_SPA_normal\n",
    "ut.xy_plot_measurement_error_plot(x_axis=\"ß\", y_axis=\"polarization_banisch_single\", SyPaAn_data=measures_from_SPA_normal)"
   ],
   "metadata": {
    "collapsed": false,
    "ExecuteTime": {
     "start_time": "2023-11-27T12:07:10.745709Z",
     "end_time": "2023-11-27T12:07:11.082961Z"
    },
    "pycharm": {
     "is_executing": true
    }
   }
  },
  {
   "cell_type": "code",
   "execution_count": 18,
   "outputs": [
    {
     "name": "stdout",
     "output_type": "stream",
     "text": [
      "[0.]\n",
      "[0.1]\n",
      "[0.2]\n",
      "[0.3]\n",
      "[0.4]\n",
      "[0.5]\n",
      "[0.6]\n",
      "[0.7]\n",
      "[0.8]\n",
      "[0.9]\n",
      "[1.]\n",
      "[1.1]\n",
      "[1.2]\n",
      "[1.3]\n",
      "[1.4]\n",
      "[1.5]\n",
      "[1.6]\n",
      "[1.7]\n",
      "[1.8]\n",
      "[1.9]\n",
      "[2.]\n",
      "[2.1]\n",
      "[2.2]\n",
      "[2.3]\n",
      "[2.4]\n",
      "[2.5]\n",
      "[2.6]\n",
      "[2.7]\n",
      "[2.8]\n",
      "[2.9]\n",
      "[3.]\n",
      "[3.1]\n",
      "[3.2]\n",
      "[3.3]\n",
      "[3.4]\n",
      "[3.5]\n",
      "[3.6]\n",
      "[3.7]\n",
      "[3.8]\n",
      "[3.9]\n",
      "[4.]\n",
      "[4.1]\n",
      "[4.2]\n",
      "[4.3]\n",
      "[4.4]\n",
      "[4.5]\n",
      "[4.6]\n",
      "[4.7]\n",
      "[4.8]\n",
      "[4.9]\n",
      "[5.]\n",
      "[5.1]\n",
      "[5.2]\n",
      "[5.3]\n",
      "[5.4]\n",
      "[5.5]\n",
      "[5.6]\n",
      "[5.7]\n",
      "[5.8]\n",
      "[5.9]\n",
      "[6.]\n",
      "[6.1]\n",
      "[6.2]\n",
      "[6.3]\n",
      "[6.4]\n",
      "[6.5]\n",
      "[6.6]\n",
      "[6.7]\n",
      "[6.8]\n",
      "[6.9]\n",
      "[7.]\n",
      "[7.1]\n",
      "[7.2]\n",
      "[7.3]\n",
      "[7.4]\n",
      "[7.5]\n",
      "[7.6]\n",
      "[7.7]\n",
      "[7.8]\n",
      "[7.9]\n",
      "[8.]\n",
      "[8.1]\n",
      "[8.2]\n",
      "[8.3]\n",
      "[8.4]\n",
      "[8.5]\n",
      "[8.6]\n",
      "[8.7]\n",
      "[8.8]\n",
      "[8.9]\n",
      "[9.]\n",
      "[9.1]\n",
      "[9.2]\n",
      "[9.3]\n",
      "[9.4]\n",
      "[9.5]\n",
      "[9.6]\n",
      "[9.7]\n",
      "[9.8]\n",
      "[9.9]\n",
      "[10.]\n",
      "Stored 'measures_from_SPA_reduced' (list)\n"
     ]
    }
   ],
   "source": [
    "measures = {\n",
    "    #\"time_until_consens\": -1\n",
    "     \"max_variance\": 0\n",
    "    , \"polarization_banisch_single\": 0\n",
    "    #, \"mean_attitude_END_VALUE\": 0\n",
    "    #, \"variance_attitude_END_VALUE\": 0\n",
    "}\n",
    "measures_from_SPA_reduced = reduced_am.systematic_parameter_analysis(SPA_param, model_parameters, measures)\n",
    "%store measures_from_SPA_reduced"
   ],
   "metadata": {
    "collapsed": false,
    "ExecuteTime": {
     "start_time": "2023-11-27T12:07:11.087958Z",
     "end_time": "2023-11-27T12:26:44.700153Z"
    }
   }
  },
  {
   "cell_type": "code",
   "execution_count": 19,
   "outputs": [],
   "source": [
    "%store -r measures_from_SPA_reduced\n",
    "%store -r measures_from_SPA_normal"
   ],
   "metadata": {
    "collapsed": false,
    "ExecuteTime": {
     "start_time": "2023-11-27T12:26:44.704153Z",
     "end_time": "2023-11-27T12:26:44.733106Z"
    }
   }
  },
  {
   "cell_type": "code",
   "execution_count": 20,
   "outputs": [
    {
     "data": {
      "text/plain": "<Figure size 640x480 with 1 Axes>",
      "image/png": "[encoded data removed]"
     },
     "metadata": {},
     "output_type": "display_data"
    }
   ],
   "source": [
    "color1 = \"lightblue\"\n",
    "color2 = \"darkorange\"\n",
    "ut.plot_beta_against_max_var_two_sims(\"ß\", \"polarization_banisch_single\", measures_from_SPA_reduced, measures_from_SPA_normal, color1, color2)"
   ],
   "metadata": {
    "collapsed": false,
    "ExecuteTime": {
     "start_time": "2023-11-27T12:26:44.736107Z",
     "end_time": "2023-11-27T12:26:45.066784Z"
    }
   }
  },
  {
   "cell_type": "code",
   "execution_count": null,
   "outputs": [],
   "source": [
    "%store -r measures_from_SPA_reduced_M4_N100\n",
    "%store -r measures_from_SPA_reduced_M8_N100"
   ],
   "metadata": {
    "collapsed": false,
    "ExecuteTime": {
     "start_time": "2023-11-17T17:55:49.765371Z",
     "end_time": "2023-11-17T17:55:49.792711Z"
    }
   }
  },
  {
   "cell_type": "code",
   "execution_count": null,
   "outputs": [],
   "source": [
    "# how is the following figure looking for the normal model? Does it \"walk\" to the right as well? Or not at all?"
   ],
   "metadata": {
    "collapsed": false
   }
  },
  {
   "cell_type": "code",
   "execution_count": null,
   "outputs": [],
   "source": [
    "color1 = \"lightblue\"\n",
    "color2 = \"blue\"\n",
    "ut.plot_beta_against_max_var_two_sims(\"ß\", \"max_variance\", measures_from_SPA_reduced_M4_N100, measures_from_SPA_reduced_M8_N100, color1, color2)"
   ],
   "metadata": {
    "collapsed": false,
    "ExecuteTime": {
     "start_time": "2023-11-17T17:55:50.414972Z",
     "end_time": "2023-11-17T17:55:51.221965Z"
    }
   }
  },
  {
   "cell_type": "code",
   "execution_count": null,
   "outputs": [],
   "source": [],
   "metadata": {
    "collapsed": false
   }
  }
 ],
 "metadata": {
  "kernelspec": {
   "display_name": "Python 3 (ipykernel)",
   "language": "python",
   "name": "python3"
  },
  "language_info": {
   "codemirror_mode": {
    "name": "ipython",
    "version": 3
   },
   "file_extension": ".py",
   "mimetype": "text/x-python",
   "name": "python",
   "nbconvert_exporter": "python",
   "pygments_lexer": "ipython3",
   "version": "3.8.5"
  }
 },
 "nbformat": 4,
 "nbformat_minor": 5
}
