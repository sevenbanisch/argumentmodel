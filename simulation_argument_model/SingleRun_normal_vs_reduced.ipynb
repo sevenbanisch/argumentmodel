{
 "cells": [
  {
   "cell_type": "code",
   "id": "a7cfc65c",
   "metadata": {
    "ExecuteTime": {
     "end_time": "2024-06-17T10:38:56.318794Z",
     "start_time": "2024-06-17T10:38:52.176606Z"
    }
   },
   "source": [
    "# import needed packages\n",
    "import numpy as np\n",
    "from model_code import utilities_visuals as ut\n",
    "from model_code import utilities_simulation as us\n",
    "\n",
    "from model_code import ArgModel as normal_am\n",
    "from model_code import reducedArgModel as reduced_am"
   ],
   "execution_count": 2,
   "outputs": []
  },
  {
   "cell_type": "code",
   "id": "74e6bc82",
   "metadata": {
    "ExecuteTime": {
     "end_time": "2024-06-10T08:16:21.250214Z",
     "start_time": "2024-06-10T08:16:21.235213Z"
    }
   },
   "source": [
    "M = 4\n",
    "# defines the parameters needed to run the model\n",
    "model_parameters = {\n",
    "    \"no_of_agents\": 100\n",
    "    , \"no_of_iterations\": 1000\n",
    "    # strength of biased processing\n",
    "    ,\"ß\": 5\n",
    "    # Number of implicitly modelled arguments\n",
    "    ,\"M\": M\n",
    "    # linkage matrix\n",
    "    , \"C\": us.create_connection_matrix_symmetrical(no_of_arguments=M, normalised=True)\n",
    "    , \"initiation\": \"binomial\"\n",
    "    }\n"
   ],
   "execution_count": 2,
   "outputs": []
  },
  {
   "metadata": {
    "ExecuteTime": {
     "end_time": "2024-06-10T10:28:43.022923Z",
     "start_time": "2024-06-10T10:28:41.030550Z"
    }
   },
   "cell_type": "code",
   "source": [
    "from model_code import fastModel\n",
    "C = fastModel.create_connection_array_symmetrical(no_of_arguments=4, normalised=True)"
   ],
   "id": "34dfbc60c9911695",
   "execution_count": 1,
   "outputs": []
  },
  {
   "metadata": {
    "ExecuteTime": {
     "end_time": "2024-06-10T10:29:20.339750Z",
     "start_time": "2024-06-10T10:29:20.311235Z"
    }
   },
   "cell_type": "code",
   "source": "results = fastModel.explicit_model(M=4, N=100, T=1000, ß=0, C=C)",
   "id": "4cb8e983b7b36582",
   "execution_count": 7,
   "outputs": []
  },
  {
   "metadata": {
    "ExecuteTime": {
     "end_time": "2024-06-10T10:32:55.436420Z",
     "start_time": "2024-06-10T10:32:55.417357Z"
    }
   },
   "cell_type": "code",
   "source": "results = fastModel.reduced_model(M=4, N=100, T=1000, ß=0, C=C)",
   "id": "f1799da94fb8ec8b",
   "execution_count": 13,
   "outputs": []
  },
  {
   "metadata": {},
   "cell_type": "code",
   "execution_count": null,
   "source": "",
   "id": "eb8503aa9e0bd639",
   "outputs": []
  },
  {
   "metadata": {
    "ExecuteTime": {
     "end_time": "2024-06-10T10:32:58.467878Z",
     "start_time": "2024-06-10T10:32:57.546909Z"
    }
   },
   "cell_type": "code",
   "source": "fig = ut.two_d_histogramm_single_simulation(results, 9, 4)",
   "id": "179eed59adb86af3",
   "execution_count": 14,
   "outputs": []
  },
  {
   "metadata": {},
   "cell_type": "markdown",
   "source": "",
   "id": "c8d0a5675afe4d88"
  },
  {
   "metadata": {
    "ExecuteTime": {
     "end_time": "2024-06-17T10:38:59.033622Z",
     "start_time": "2024-06-17T10:38:59.015624Z"
    }
   },
   "cell_type": "code",
   "source": [
    "ß_steps = 30\n",
    "ß_info = (0, 6, ß_steps)\n",
    "for ß_step in range(ß_steps):\n",
    "\n",
    "    ß = np.round((ß_step/ß_steps) * (ß_info[1] - ß_info[0]),2)\n",
    "    print(ß)"
   ],
   "id": "15f25633a0074c4f",
   "execution_count": 3,
   "outputs": []
  },
  {
   "metadata": {
    "ExecuteTime": {
     "end_time": "2024-06-17T10:50:44.325941Z",
     "start_time": "2024-06-17T10:39:10.767618Z"
    }
   },
   "cell_type": "code",
   "source": [
    "from model_code import fastModel\n",
    "from numba_progress import ProgressBar \n",
    "import numpy as np\n",
    "\n",
    "ß_steps = 30\n",
    "ß_info = (0, 6, ß_steps)\n",
    "M_values = 3\n",
    "no_of_simulations = 50\n",
    "\n",
    "\n",
    "with ProgressBar(total=ß_steps) as progress:\n",
    "    red, exp = fastModel.SystematicParameterAnalysis(ß_info, M_values, no_of_simulations, progress)"
   ],
   "id": "6dcdd50beaa47278",
   "execution_count": 4,
   "outputs": []
  },
  {
   "metadata": {
    "ExecuteTime": {
     "end_time": "2024-06-17T07:53:40.104580Z",
     "start_time": "2024-06-17T07:53:40.081587Z"
    }
   },
   "cell_type": "code",
   "source": "red.shape",
   "id": "9e30a6b118f1b854",
   "execution_count": 4,
   "outputs": []
  },
  {
   "metadata": {
    "ExecuteTime": {
     "end_time": "2024-06-17T15:48:13.812511Z",
     "start_time": "2024-06-17T15:48:12.027044Z"
    }
   },
   "cell_type": "code",
   "source": [
    "from model_code import utilities_visuals as us\n",
    "import matplotlib.pyplot as plt\n",
    "\n",
    "def consensrate_withrespect_M_against_beta(SyPaAn_data, Ms):\n",
    "\n",
    "    fig = plt.figure(figsize=(13, 7))\n",
    "    fontsize = 14\n",
    "    plt.rc('xtick',labelsize=fontsize-1)\n",
    "    plt.rc('ytick',labelsize=fontsize-1)\n",
    "\n",
    "    number = len(Ms)+4\n",
    "    cmap = plt.get_cmap('autumn')\n",
    "    colors = [cmap(i) for i in np.linspace(0, 1, number)]\n",
    "    colors.reverse()\n",
    "\n",
    "    for i, (color, edgecolor, M) in enumerate(zip(colors[2:-2], colors[4:], Ms)):\n",
    "        SyPaAn_data_M = SyPaAn_data[:,i,:]\n",
    "        consensus_rate = np.mean(np.where(SyPaAn_data_M<0.01, 1, 0), axis=1)\n",
    "\n",
    "        plt.plot(consensus_rate, lw=3, color = color, marker=\"o\", markeredgewidth=1, markeredgecolor=edgecolor,\n",
    "                 label=fr\"Consens Rate for $M = {M}$ at $T = {int(M/4)*1000}$\")\n",
    "\n",
    "    plt.title(fr\"Consens Rate at different M's with $T = M/4 * 1000$\", fontsize=fontsize)\n",
    "    plt.legend(fontsize=fontsize)\n",
    "    plt.xlabel(r\"$\\beta$\", fontsize=fontsize)\n",
    "    plt.ylabel(\"Consens Rate\", fontsize=fontsize)\n",
    "\n",
    "    #plt.savefig(f\"consensrate_withrespect_M_against_beta{SyPaAn_data[0]['model_type']}.svg\", format=\"svg\")\n",
    "    plt.show()\n",
    "\n",
    "\n",
    "consensrate_withrespect_M_against_beta(red, [4,16,64])\n"
   ],
   "id": "24c14a86b882daf9",
   "execution_count": 5,
   "outputs": []
  },
  {
   "metadata": {
    "ExecuteTime": {
     "end_time": "2024-06-17T15:48:25.686365Z",
     "start_time": "2024-06-17T15:48:24.913365Z"
    }
   },
   "cell_type": "code",
   "source": "consensrate_withrespect_M_against_beta(exp, [4,16,64])",
   "id": "8ec3729ec83fd136",
   "execution_count": 6,
   "outputs": []
  },
  {
   "cell_type": "code",
   "source": [
    "measures = {\n",
    "    \"attitude_of_all_agents\": np.zeros((model_parameters[\"no_of_agents\"], model_parameters[\"no_of_iterations\"]))\n",
    "    #, \"mean_attitude\": np.zeros(model_parameters[\"no_of_iterations\"])\n",
    "    , \"variance_attitude\": np.zeros(model_parameters[\"no_of_iterations\"])\n",
    "    #, \"time_until_consens\": model_parameters[\"no_of_iterations\"]\n",
    "}\n",
    "# simulates a model run and saves the returned data for later use\n",
    "measures_reduced = reduced_am.simulate_agent_interaction(model_parameters, measures)"
   ],
   "metadata": {
    "collapsed": false,
    "ExecuteTime": {
     "end_time": "2024-06-10T08:17:01.396303Z",
     "start_time": "2024-06-10T08:17:01.274735Z"
    }
   },
   "id": "d5190b586c96f686",
   "execution_count": 10,
   "outputs": []
  },
  {
   "cell_type": "code",
   "execution_count": 5,
   "source": [
    "import matplotlib.pyplot as plt\n",
    "f = plt.figure()\n",
    "plt.plot(measures_reduced[\"variance_attitude\"])"
   ],
   "metadata": {
    "collapsed": false,
    "ExecuteTime": {
     "start_time": "2024-05-27T09:53:01.857031Z",
     "end_time": "2024-05-27T09:53:02.242108Z"
    }
   },
   "id": "5170e00f6f734f67",
   "outputs": []
  },
  {
   "cell_type": "code",
   "execution_count": 9,
   "id": "4052eb26",
   "metadata": {
    "ExecuteTime": {
     "start_time": "2024-05-27T09:53:54.736497Z",
     "end_time": "2024-05-27T09:54:03.353929Z"
    }
   },
   "source": [
    "#creates the one look peek for a single simulation\n",
    "fig = ut.two_d_histogramm_single_simulation(measures_reduced[\"attitude_of_all_agents\"], 9, model_parameters[\"M\"])"
   ],
   "outputs": []
  },
  {
   "cell_type": "code",
   "id": "d3adf9ee",
   "metadata": {
    "ExecuteTime": {
     "end_time": "2024-06-10T07:36:47.903282Z",
     "start_time": "2024-06-10T07:36:47.763877Z"
    }
   },
   "source": [
    "measures = {\n",
    "    \"attitude_of_all_agents\": np.zeros((model_parameters[\"no_of_agents\"], model_parameters[\"no_of_iterations\"]))\n",
    "    #, \"mean_attitude\": np.zeros(model_parameters[\"no_of_iterations\"])\n",
    "    #, \"variance_attitude\": np.zeros(model_parameters[\"no_of_iterations\"])\n",
    "    #takes too long for 1000 agents\n",
    "    #, \"correlation_of_evaluations\": np.zeros((model_parameters[\"no_of_agents\"], model_parameters[\"no_of_agents\"], model_parameters[\"no_of_iterations\"]))\n",
    "    }\n",
    "\n",
    "measures_normal = normal_am.simulate_agent_interaction(model_parameters, measures)"
   ],
   "execution_count": 10,
   "outputs": []
  },
  {
   "cell_type": "code",
   "execution_count": 26,
   "source": [
    "f = plt.figure()\n",
    "plt.plot(measures_normal[\"variance_attitude\"])"
   ],
   "metadata": {
    "collapsed": false,
    "ExecuteTime": {
     "start_time": "2024-05-23T20:42:25.148262Z",
     "end_time": "2024-05-23T20:42:25.521636Z"
    }
   },
   "id": "4d720a45e1c5cc8e",
   "outputs": []
  },
  {
   "cell_type": "code",
   "execution_count": 27,
   "source": [
    "print(measures_normal[\"variance_attitude\"][3999])"
   ],
   "metadata": {
    "collapsed": false,
    "ExecuteTime": {
     "start_time": "2024-05-23T20:42:25.525156Z",
     "end_time": "2024-05-23T20:42:25.540692Z"
    }
   },
   "id": "a35b2a51694c05aa",
   "outputs": []
  },
  {
   "cell_type": "code",
   "execution_count": 28,
   "id": "5beccfc2",
   "metadata": {
    "ExecuteTime": {
     "start_time": "2024-05-23T20:42:25.538693Z",
     "end_time": "2024-05-23T20:42:30.475965Z"
    }
   },
   "source": [
    "#creates the one look peek for a single simulation\n",
    "fig = ut.two_d_histogramm_single_simulation(measures_normal[\"attitude_of_all_agents\"], 9, model_parameters[\"C\"])"
   ],
   "outputs": []
  },
  {
   "cell_type": "code",
   "execution_count": null,
   "source": [],
   "metadata": {
    "collapsed": false
   },
   "id": "20fcc83342d10d0a",
   "outputs": []
  }
 ],
 "metadata": {
  "kernelspec": {
   "display_name": "Python 3 (ipykernel)",
   "language": "python",
   "name": "python3"
  },
  "language_info": {
   "codemirror_mode": {
    "name": "ipython",
    "version": 3
   },
   "file_extension": ".py",
   "mimetype": "text/x-python",
   "name": "python",
   "nbconvert_exporter": "python",
   "pygments_lexer": "ipython3",
   "version": "3.8.5"
  }
 },
 "nbformat": 4,
 "nbformat_minor": 5
}
