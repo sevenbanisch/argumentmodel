{
 "cells": [
  {
   "cell_type": "code",
   "execution_count": null,
   "id": "a7cfc65c",
   "metadata": {
    "ExecuteTime": {
     "start_time": "2024-04-30T09:03:55.846085Z",
     "end_time": "2024-04-30T09:03:55.872662Z"
    }
   },
   "outputs": [],
   "source": [
    "# import needed packages\n",
    "import numpy as np\n",
    "from model_code import utilities_visuals as ut\n",
    "from model_code import utilities_simulation as us\n",
    "from model_code import ArgModel as normal_am\n",
    "from model_code import reducedArgModel as reduced_am"
   ]
  },
  {
   "cell_type": "code",
   "execution_count": null,
   "outputs": [],
   "source": [
    "M = 4\n",
    "# defines the parameters needed to run the model\n",
    "model_parameters = {\n",
    "    \"no_of_agents\": 500\n",
    "    , \"no_of_iterations\": 40000\n",
    "    # strength of biased processing\n",
    "    , \"ß\": 3.2\n",
    "    # number of implicitly modelled arguments\n",
    "    , \"M\": M\n",
    "    # linkage matrix\n",
    "    , \"C\": us.create_connection_matrix_symmetrical(no_of_arguments=M, normalised=True)\n",
    "}\n",
    "\n",
    "SPA_param = {\n",
    "    'params_to_iter': np.array(['ß', 'M', 'N']),\n",
    "    'sims_per_comb': 100,\n",
    "    'boundaries': np.array([[0,6], [4,4], [500,500]]),\n",
    "    'no_of_steps': np.array([2, 5, 1])\n",
    "}"
   ],
   "metadata": {
    "collapsed": false,
    "ExecuteTime": {
     "start_time": "2024-04-30T09:04:14.728782Z",
     "end_time": "2024-04-30T09:04:14.743909Z"
    }
   }
  },
  {
   "cell_type": "code",
   "execution_count": null,
   "outputs": [],
   "source": [
    "measures = {\n",
    "    \"time_until_consens\": model_parameters[\"no_of_iterations\"],\n",
    "    #, \"mean_attitude_END_VALUE\": 0\n",
    "    \"variance_attitude\": np.zeros(model_parameters[\"no_of_iterations\"])\n",
    "}\n",
    "\n",
    "\n",
    "measures_from_SPA_normal = normal_am.systematic_parameter_analysis(SPA_param, model_parameters, measures)\n",
    "\n",
    "ut.pickle_sim(measures_from_SPA_normal, SPA_param)\n",
    "#%store measures_from_SPA_normal"
   ],
   "metadata": {
    "collapsed": false,
    "ExecuteTime": {
     "start_time": "2024-04-30T08:52:54.723340Z",
     "end_time": "2024-04-30T08:53:23.290435Z"
    }
   }
  },
  {
   "cell_type": "code",
   "execution_count": null,
   "outputs": [],
   "source": [
    "measures = {\n",
    "    \"time_until_consens\": model_parameters[\"no_of_iterations\"]\n",
    "    #, \"mean_attitude_END_VALUE\": 0\n",
    "    #, \"variance_attitude_END_VALUE\": 0\n",
    "    , \"variance_attitude\": np.zeros(model_parameters[\"no_of_iterations\"])\n",
    "}\n",
    "measures_from_SPA_reduced = reduced_am.systematic_parameter_analysis(SPA_param, model_parameters, measures)\n",
    "\n",
    "ut.pickle_sim(measures_from_SPA_reduced, SPA_param)"
   ],
   "metadata": {
    "collapsed": false,
    "ExecuteTime": {
     "start_time": "2024-04-30T08:53:26.157064Z",
     "end_time": "2024-04-30T08:53:46.782905Z"
    }
   }
  },
  {
   "cell_type": "code",
   "execution_count": null,
   "outputs": [],
   "source": [
    "measures_from_SPA_normal = ut.load_sim(model_parameters, SPA_param, \"NormalModel\")\n",
    "measures_from_SPA_reduced = ut.load_sim(model_parameters, SPA_param, \"ReducedModel\")"
   ],
   "metadata": {
    "collapsed": false,
    "ExecuteTime": {
     "start_time": "2024-04-30T09:04:41.604369Z",
     "end_time": "2024-04-30T09:04:46.064317Z"
    }
   }
  },
  {
   "cell_type": "code",
   "execution_count": null,
   "outputs": [],
   "source": [
    "ut.xy_plot_measurement_boxplot('ß', 'time_until_consens', measures_from_SPA_normal)"
   ],
   "metadata": {
    "collapsed": false,
    "ExecuteTime": {
     "start_time": "2024-04-30T09:04:49.234939Z",
     "end_time": "2024-04-30T09:04:50.832620Z"
    }
   }
  },
  {
   "cell_type": "code",
   "execution_count": null,
   "outputs": [],
   "source": [
    "ut.xy_plot_measurement_boxplot('ß', 'time_until_consens', measures_from_SPA_reduced)"
   ],
   "metadata": {
    "collapsed": false,
    "ExecuteTime": {
     "start_time": "2024-04-22T11:53:12.720830Z",
     "end_time": "2024-04-22T11:53:14.235216Z"
    }
   }
  },
  {
   "cell_type": "code",
   "execution_count": null,
   "outputs": [],
   "source": [
    "ut.plot_beta_against_time_until_consens_two_sims(measures_from_SPA_normal, measures_from_SPA_reduced, 40000, \"low_beta\")"
   ],
   "metadata": {
    "collapsed": false,
    "ExecuteTime": {
     "start_time": "2024-04-16T00:48:20.025936Z",
     "end_time": "2024-04-16T00:48:21.847929Z"
    }
   }
  },
  {
   "cell_type": "code",
   "execution_count": null,
   "outputs": [],
   "source": [
    "ut.variance_consensusrate_against_beta(measures_from_SPA_reduced, 1000)"
   ],
   "metadata": {
    "collapsed": false,
    "ExecuteTime": {
     "start_time": "2024-04-23T11:57:07.896183Z",
     "end_time": "2024-04-23T11:57:09.398212Z"
    }
   }
  },
  {
   "cell_type": "code",
   "execution_count": null,
   "outputs": [],
   "source": [
    "ut.consensrate_withrespect_T_against_beta(measures_from_SPA_reduced, [1000, 2000, 4000, 8000, 16000, 32000])"
   ],
   "metadata": {
    "collapsed": false,
    "ExecuteTime": {
     "start_time": "2024-04-16T12:55:50.427533Z",
     "end_time": "2024-04-16T12:55:56.745813Z"
    }
   }
  },
  {
   "cell_type": "code",
   "execution_count": null,
   "outputs": [],
   "source": [
    "ut.convergence_time_against_beta(measures_from_SPA_normal, measures_from_SPA_reduced)"
   ],
   "metadata": {
    "collapsed": false,
    "ExecuteTime": {
     "start_time": "2024-04-16T12:54:59.243329Z",
     "end_time": "2024-04-16T12:55:01.397976Z"
    }
   }
  }
 ],
 "metadata": {
  "kernelspec": {
   "display_name": "Python 3 (ipykernel)",
   "language": "python",
   "name": "python3"
  },
  "language_info": {
   "codemirror_mode": {
    "name": "ipython",
    "version": 3
   },
   "file_extension": ".py",
   "mimetype": "text/x-python",
   "name": "python",
   "nbconvert_exporter": "python",
   "pygments_lexer": "ipython3",
   "version": "3.8.5"
  }
 },
 "nbformat": 4,
 "nbformat_minor": 5
}
